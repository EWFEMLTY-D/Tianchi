{
 "cells": [
  {
   "cell_type": "code",
   "execution_count": 2,
   "metadata": {},
   "outputs": [],
   "source": [
    "import pandas as pd\n",
    "import numpy as np\n",
    "# jieba:分词工具包\n",
    "import jieba \n",
    "# re:正则表达式\n",
    "import re\n",
    "from collections import Counter\n",
    "from wordcloud import WordCloud\n",
    "import matplotlib.pyplot as plt\n",
    "from matplotlib import colors\n",
    "from matplotlib import font_manager"
   ]
  },
  {
   "cell_type": "code",
   "execution_count": 3,
   "metadata": {},
   "outputs": [
    {
     "data": {
      "text/html": [
       "<div>\n",
       "<style scoped>\n",
       "    .dataframe tbody tr th:only-of-type {\n",
       "        vertical-align: middle;\n",
       "    }\n",
       "\n",
       "    .dataframe tbody tr th {\n",
       "        vertical-align: top;\n",
       "    }\n",
       "\n",
       "    .dataframe thead th {\n",
       "        text-align: right;\n",
       "    }\n",
       "</style>\n",
       "<table border=\"1\" class=\"dataframe\">\n",
       "  <thead>\n",
       "    <tr style=\"text-align: right;\">\n",
       "      <th></th>\n",
       "      <th>content_id</th>\n",
       "      <th>content</th>\n",
       "      <th>subject</th>\n",
       "      <th>sentiment_word</th>\n",
       "      <th>sentiment_value</th>\n",
       "    </tr>\n",
       "  </thead>\n",
       "  <tbody>\n",
       "    <tr>\n",
       "      <th>0</th>\n",
       "      <td>0</td>\n",
       "      <td>Silent Angel期待您的光临，共赏美好的声音！</td>\n",
       "      <td>其他</td>\n",
       "      <td>好</td>\n",
       "      <td>1</td>\n",
       "    </tr>\n",
       "    <tr>\n",
       "      <th>1</th>\n",
       "      <td>2</td>\n",
       "      <td>这只HD650在1k的失真左声道是右声道的6倍左右，也超出官方规格参数范围（0.05%），看...</td>\n",
       "      <td>其他</td>\n",
       "      <td>NaN</td>\n",
       "      <td>0</td>\n",
       "    </tr>\n",
       "    <tr>\n",
       "      <th>2</th>\n",
       "      <td>3</td>\n",
       "      <td>达音科 17周年 倒是数据最好看，而且便宜</td>\n",
       "      <td>配置</td>\n",
       "      <td>好</td>\n",
       "      <td>1</td>\n",
       "    </tr>\n",
       "    <tr>\n",
       "      <th>3</th>\n",
       "      <td>4</td>\n",
       "      <td>bose，beats，apple的消費者根本不知道有曲線的存在</td>\n",
       "      <td>其他</td>\n",
       "      <td>NaN</td>\n",
       "      <td>0</td>\n",
       "    </tr>\n",
       "    <tr>\n",
       "      <th>4</th>\n",
       "      <td>5</td>\n",
       "      <td>不错的数据</td>\n",
       "      <td>配置</td>\n",
       "      <td>不错</td>\n",
       "      <td>1</td>\n",
       "    </tr>\n",
       "  </tbody>\n",
       "</table>\n",
       "</div>"
      ],
      "text/plain": [
       "   content_id                                            content subject  \\\n",
       "0           0                        Silent Angel期待您的光临，共赏美好的声音！      其他   \n",
       "1           2  这只HD650在1k的失真左声道是右声道的6倍左右，也超出官方规格参数范围（0.05%），看...      其他   \n",
       "2           3                              达音科 17周年 倒是数据最好看，而且便宜      配置   \n",
       "3           4                    bose，beats，apple的消費者根本不知道有曲線的存在      其他   \n",
       "4           5                                              不错的数据      配置   \n",
       "\n",
       "  sentiment_word  sentiment_value  \n",
       "0              好                1  \n",
       "1            NaN                0  \n",
       "2              好                1  \n",
       "3            NaN                0  \n",
       "4             不错                1  "
      ]
     },
     "execution_count": 3,
     "metadata": {},
     "output_type": "execute_result"
    }
   ],
   "source": [
    "data = pd.read_csv(r'C:\\Users\\LX\\Desktop\\earphone_sentiment.csv')\n",
    "data.head(5)"
   ]
  },
  {
   "cell_type": "code",
   "execution_count": 4,
   "metadata": {},
   "outputs": [
    {
     "name": "stdout",
     "output_type": "stream",
     "text": [
      "<class 'pandas.core.frame.DataFrame'>\n",
      "RangeIndex: 17176 entries, 0 to 17175\n",
      "Data columns (total 5 columns):\n",
      " #   Column           Non-Null Count  Dtype \n",
      "---  ------           --------------  ----- \n",
      " 0   content_id       17176 non-null  int64 \n",
      " 1   content          17176 non-null  object\n",
      " 2   subject          17176 non-null  object\n",
      " 3   sentiment_word   4966 non-null   object\n",
      " 4   sentiment_value  17176 non-null  int64 \n",
      "dtypes: int64(2), object(3)\n",
      "memory usage: 671.1+ KB\n"
     ]
    }
   ],
   "source": [
    "data.info()"
   ]
  },
  {
   "cell_type": "code",
   "execution_count": 5,
   "metadata": {},
   "outputs": [
    {
     "data": {
      "text/plain": [
       "(17176, 5)"
      ]
     },
     "execution_count": 5,
     "metadata": {},
     "output_type": "execute_result"
    }
   ],
   "source": [
    "data.shape"
   ]
  },
  {
   "cell_type": "code",
   "execution_count": 6,
   "metadata": {},
   "outputs": [
    {
     "name": "stdout",
     "output_type": "stream",
     "text": [
      "completed\n"
     ]
    }
   ],
   "source": [
    "# tolist():把矩阵或数组转换成列表\n",
    "sub = data['subject'].unique().tolist()\n",
    "sent_word = data['sentiment_word'].unique().tolist()\n",
    "sent_value = data['sentiment_value'].unique().tolist()\n",
    "print('completed')"
   ]
  },
  {
   "cell_type": "code",
   "execution_count": 7,
   "metadata": {},
   "outputs": [
    {
     "name": "stdout",
     "output_type": "stream",
     "text": [
      "不同主体占比\n",
      "其他:0.7368421052631579\n",
      "配置:0.13577084303679554\n",
      "价格:0.0461690731252911\n",
      "功能:0.009082440614811364\n",
      "音质:0.058919422449930134\n",
      "舒适:0.004017233348858873\n",
      "外形:0.0091988821611551\n"
     ]
    },
    {
     "data": {
      "image/png": "[encoded data removed]",
      "text/plain": [
       "<Figure size 432x288 with 1 Axes>"
      ]
     },
     "metadata": {
      "needs_background": "light"
     },
     "output_type": "display_data"
    }
   ],
   "source": [
    "print('不同主体占比')\n",
    "num_list = []\n",
    "for i in sub:\n",
    "    data_rate = len(data[data['subject']==i])/data.shape[0]\n",
    "    print(\"{}:{}\".format(i,data_rate))\n",
    "    num_list.append(data_rate)\n",
    "\n",
    "plt.bar(range(len(sub)), num_list)\n",
    "# FontProperties类用于存储和操作字体的属性，ttf是字体包，需要选择包含中文的；fname后接的是字体包路径\n",
    "my_font = font_manager.FontProperties(fname='YuWeiShuFaYunMoFanTi-2.ttf', size='large')\n",
    "plt.xticks(range(len(sub)), sub, fontproperties=my_font, rotation=90)\n",
    "plt.title('PROPORTION OF DIFFERENT THEMES', fontproperties=my_font)\n",
    "plt.xlabel(\"THEME\",fontproperties=my_font)\n",
    "plt.ylabel(\"PROPORTION\",fontproperties=my_font)\n",
    "plt.show() \n",
    "    "
   ]
  },
  {
   "cell_type": "code",
   "execution_count": 8,
   "metadata": {},
   "outputs": [
    {
     "name": "stdout",
     "output_type": "stream",
     "text": [
      "不同情感占比\n",
      "1:0.25477410340009315\n",
      "0:0.7108756404285049\n",
      "-1:0.03435025617140196\n"
     ]
    }
   ],
   "source": [
    "print('不同情感占比')\n",
    "for i in sent_value:\n",
    "    data_rate = len(data[data['sentiment_value']==i])/data.shape[0]\n",
    "    print(\"{}:{}\".format(i, data_rate))"
   ]
  },
  {
   "cell_type": "code",
   "execution_count": 9,
   "metadata": {},
   "outputs": [
    {
     "name": "stdout",
     "output_type": "stream",
     "text": [
      "不同情感词占比\n",
      "好:0.19224499301350723\n",
      "nan:0.0\n",
      "不错:0.03312761993479273\n",
      "呵呵:0.0013972985561248254\n",
      "牛:0.007743362831858407\n",
      "差:0.024161620866325104\n",
      "疼:0.0008150908244061481\n",
      "强:0.014205868653935725\n",
      "骗:0.0012226362366092223\n",
      "高级:0.0018048439683278994\n",
      "精致:0.00040754541220307407\n",
      "无语:0.00034932463903120635\n",
      "水准:0.0006986492780624127\n",
      "垃圾:0.0018630647414997672\n",
      "难听:0.0012808570097810898\n",
      "舒适:0.0009315323707498836\n",
      "用心:0.0009315323707498836\n",
      "追求:0.0015137401024685607\n",
      "噪音:0.0009315323707498836\n",
      "轰:0.0005822077317186772\n",
      "不舒服:0.0002328830926874709\n",
      "小巧:0.00017466231951560317\n",
      "音染:0.0008150908244061481\n",
      "惊艳:0.00040754541220307407\n",
      "充足:0.00017466231951560317\n",
      "上当:0.00011644154634373545\n",
      "无奈:0.0002911038658593386\n",
      "良心:0.00040754541220307407\n",
      "混浊:5.8220773171867724e-05\n",
      "辣鸡:0.00011644154634373545\n",
      "模糊:0.00011644154634373545\n"
     ]
    }
   ],
   "source": [
    "print('不同情感词占比')\n",
    "for i in sent_word:\n",
    "    data_rate = len(data[data['sentiment_word']==i])/data.shape[0]\n",
    "    print(\"{}:{}\".format(i, data_rate))"
   ]
  },
  {
   "cell_type": "code",
   "execution_count": 13,
   "metadata": {},
   "outputs": [
    {
     "data": {
      "image/png": "[encoded data removed]",
      "text/plain": [
       "<Figure size 800x800 with 1 Axes>"
      ]
     },
     "metadata": {
      "needs_background": "light"
     },
     "output_type": "display_data"
    }
   ],
   "source": [
    "y1 = []\n",
    "y0 = []\n",
    "y_1 = []\n",
    "for i in sub:\n",
    "    a1 = len(data[(data['subject']==i)&(data['sentiment_value']==1)])\n",
    "    y1.append(a1)\n",
    "    a0 = len(data[(data['subject']==i)&(data['sentiment_value']==0)])\n",
    "    y0.append(a0)\n",
    "    a_1 = len(data[(data['subject']==i)&(data['sentiment_value']==-1)])\n",
    "    y_1.append(a_1)\n",
    "\n",
    "x = np.arange(len(sub))\n",
    "bar_width = 0.3\n",
    "tick_label = sub\n",
    "\n",
    "plt.figure(figsize=(10,10), dpi=80)\n",
    "plt.bar(x-bar_width, y1, bar_width, color=\"g\", label='1', alpha=0.8)\n",
    "plt.bar(x, y0, bar_width, color='b', label='0', alpha=0.8)\n",
    "plt.bar(x+bar_width, y_1, bar_width, color='m', label='-1', alpha=0.8)\n",
    "\n",
    "plt.xlabel('subject', fontproperties=my_font)\n",
    "plt.ylabel('情感价值数量', fontproperties=my_font)\n",
    "plt.title('不同主题下的情感价值分布', fontproperties=my_font)\n",
    "\n",
    "for z,z1 in zip(x,y1):\n",
    "    plt.text(z-bar_width, z1+0.05,'%s'%z1, ha='center', va='bottom')\n",
    "\n",
    "for z,z2 in zip(x,y0):\n",
    "    plt.text(z, z2+0.05,'%s'%z2, ha='center', va='bottom')\n",
    "\n",
    "\n",
    "for z,z3 in zip(x,y_1):\n",
    "    plt.text(z+bar_width, z3+0.05,'%s'%z3, ha='center', va='bottom')\n",
    "    \n",
    "plt.xticks(x, tick_label, fontproperties=my_font)\n",
    "plt.yticks([0,2000,4000,6000,8000,10000])\n",
    "\n",
    "plt.legend(loc='best')\n",
    "\n",
    "plt.show()\n"
   ]
  }
 ],
 "metadata": {
  "interpreter": {
   "hash": "07efdcd4b820c98a756949507a4d29d7862823915ec7477944641bea022f4f62"
  },
  "kernelspec": {
   "display_name": "Python 3.7.0 64-bit ('base': conda)",
   "language": "python",
   "name": "python3"
  },
  "language_info": {
   "codemirror_mode": {
    "name": "ipython",
    "version": 3
   },
   "file_extension": ".py",
   "mimetype": "text/x-python",
   "name": "python",
   "nbconvert_exporter": "python",
   "pygments_lexer": "ipython3",
   "version": "3.9.7"
  },
  "orig_nbformat": 4
 },
 "nbformat": 4,
 "nbformat_minor": 2
}
